{
 "cells": [
  {
   "cell_type": "markdown",
   "id": "d209d1f9-20d3-4511-8bbf-d01949686130",
   "metadata": {},
   "source": [
    "# An introduction to FlexiConc\n",
    "\n",
    "This worked example shows how to use FlexiConc from an interactive Jupyter notebook for organising and reading concordances. We use CLiC as a query backend so that no passwords, downloads or other extra steps are needed."
   ]
  },
  {
   "cell_type": "markdown",
   "id": "49ded64f-ab96-43e3-b3c8-57bb3e7b4ef8",
   "metadata": {},
   "source": [
    "## Preparation\n",
    "\n",
    "Make sure that FlexiConc and its dependencies are installed, following the instructions in the course slides (which will also install Python packages required by some of the algorithms included in the FlexiConc distribution). Don't forget to activate your virtual environment before starting the JupyterLab server."
   ]
  },
  {
   "cell_type": "markdown",
   "id": "7f59ea3b-093b-41ec-8ea4-9c2dff9ddf54",
   "metadata": {},
   "source": [
    "The code cell below is only needed when running this notebook in Google Colab. It uses `!` to run a shell command from the notebook because manual software installation is not supported in Colab. The `-U` upgrades FlexiConc if it is already installed (we frequently release minor or major upgrades), and the extensions in brackets make sure that all required dependencies are also installed."
   ]
  },
  {
   "cell_type": "raw",
   "id": "84a7e7f8-abe5-43fc-b991-46948ce9dc70",
   "metadata": {},
   "source": [
    "!pip install -U 'flexiconc[notebooks,web,ICU,partitioning,annotation]'"
   ]
  },
  {
   "cell_type": "markdown",
   "id": "7afdbb85-2df1-480d-b1af-c4fb4658c26e",
   "metadata": {},
   "source": [
    "We can now import FlexiConc and its convenience functions for Jupyter notebooks. Normally, you would access classes and functions via the package namespace (e.g. `import flexiconc as fc`) or use `import * from ...`; here we explicitly import the relevant classes and functions for your reference."
   ]
  },
  {
   "cell_type": "code",
   "execution_count": null,
   "id": "ed3d3ac7-ab10-4dea-bb17-6c2096f47b11",
   "metadata": {},
   "outputs": [],
   "source": [
    "from flexiconc import Concordance\n",
    "from flexiconc.utils.notebook_utils import add_node_ui, add_annotation_ui, show_kwic, show_analysis_tree"
   ]
  },
  {
   "cell_type": "markdown",
   "id": "e40921d9-f6ef-4ee9-abbf-5d893ddfefad",
   "metadata": {},
   "source": [
    "## Obtaining a concordance\n",
    "\n",
    "FlexiConc includes helper functions for importing concordances from various source, including the public [CLiC server](https://clic-fiction.com) (where you can also use FlexiConc via a Web UI), [CQPweb](https://corpora.linguistik.uni-erlangen.de/cqpweb/), [WMatrix](https://ucrel-wmatrix7.lancaster.ac.uk/), and [Sketch Engine](https://app.sketchengine.eu/).\n",
    "\n",
    "Here, we want to analyse a concordance for _head_ in the 19C corpus of 19th century novels. Note that the query can specify several items, which can either be single words or whitespace-separated multiword units. You can also obtain a combined concordance across multiple corpora or restrict the search e.g. to _quotes_ or _long suspensions_."
   ]
  },
  {
   "cell_type": "code",
   "execution_count": null,
   "id": "06c20957-2ce0-418b-9059-965d013e7aff",
   "metadata": {},
   "outputs": [],
   "source": [
    "C = Concordance()\n",
    "C.retrieve_from_clic(query=['head'], corpora=[\"corpus:19C\"])"
   ]
  },
  {
   "cell_type": "markdown",
   "id": "e7c1435b-c43a-42dc-aa82-cdeab6c166ef",
   "metadata": {},
   "source": [
    "The concordance object `C` now holds the entire concordance data, as well as the analysis tree representing our concordance reading process. So far, the tree only consists of a root node. We can conveniently display the concordance in kwic format with `show_kwic()`, here limited to the first 10 lines. We can also display metadata such as `text_id` and `chapter`."
   ]
  },
  {
   "cell_type": "code",
   "execution_count": null,
   "id": "50e60d38-b03d-47bc-8677-72cc70b513b9",
   "metadata": {},
   "outputs": [],
   "source": [
    "show_kwic(C.root, n=10, metadata_columns=(\"text_id\", \"chapter\"))"
   ]
  },
  {
   "cell_type": "markdown",
   "id": "107d0e40-ecef-465f-a964-cee2295f1add",
   "metadata": {},
   "source": [
    "You can find out the size of the concordance from the `line_count` field of the root node."
   ]
  },
  {
   "cell_type": "code",
   "execution_count": null,
   "id": "3cf46d5f-7ba6-4f02-a8c3-2809b49ba5cb",
   "metadata": {},
   "outputs": [],
   "source": [
    "C.root.line_count"
   ]
  },
  {
   "cell_type": "markdown",
   "id": "766ffa35-d600-4dea-86d5-55dff222d983",
   "metadata": {},
   "source": [
    "## Concordance views\n",
    "\n",
    "We can now obtain different perspectives on the concordance in the form of concordance views by applying algorithms. Each concordance view is a node in the analysis tree. Recall that we distinguish between **subset nodes** (created by a Selecting algorithm) and **arrangement nodes** (created by a combination of Ordering and/or Grouping algorithms).\n",
    "\n",
    "As a very first step, we look at a random sample of concordance lines to get a better overview. In the FlexiConc approach, this is achieved by application of an algorithm – there are no shortcuts like a _random shuffle_ button (but you can easily define your own Python functions for this purpose!). While the required arrangement node can be added from Python code (with `C.root.add_subset_node()`), this is only for expert users – you need to know the name of the algorithm, all its parameters, and the correct format for specifying parameter values.\n",
    "\n",
    "Fortunately, the FlexiConc notebook utilities also include a convenient interactive interface. You can select the desired algorithm(s), choose their parameters from menus, and then click _OK_ to apply the algorithms. This step adds a node to the analysis tree that can be captured in a Python variable (so that we can reference it for displaying the concordance view etc.).\n",
    "\n",
    "In the interactive dialogue, choose _subset node_, then pick _Random Sample_ and set the _sample_size_ to the desired value (e.g. 20). The _seed_ is for ensuring that the random sample can be reproduced later. Don't forget to click the _OK_ button. Some Python code will show up below the button, which is the actual method call that was performed in the FlexiConc library."
   ]
  },
  {
   "cell_type": "code",
   "execution_count": null,
   "id": "dcbd75ab-160a-47a4-9d85-5ff40ed42a9e",
   "metadata": {},
   "outputs": [],
   "source": [
    "n1 = add_node_ui(C.root)"
   ]
  },
  {
   "cell_type": "markdown",
   "id": "3e4712ec-f17c-41fa-b51c-665e7f4928d0",
   "metadata": {},
   "source": [
    "You can now display the random sample of concordance lines."
   ]
  },
  {
   "cell_type": "code",
   "execution_count": null,
   "id": "e6cb0260-1d79-4175-8b0f-3badd6f5e166",
   "metadata": {},
   "outputs": [],
   "source": [
    "show_kwic(n1, metadata_columns=(\"text_id\", \"chapter\"))"
   ]
  },
  {
   "cell_type": "markdown",
   "id": "861827cf-8c1d-4cdb-bd7f-f904cdd5c61b",
   "metadata": {},
   "source": [
    "Note that the interactive dialogue above remains active: you can always change parameters and click _OK_ again. This will overwrite variable `n1` with a new node reflecting the changed parameters. Try it now: modify the sample size, or pick a different seed. Then execute the `show_kwic()` cell again to see the new sample."
   ]
  },
  {
   "cell_type": "markdown",
   "id": "4587464d-9afb-4e6d-b29d-6ad3a9a02a2e",
   "metadata": {},
   "source": [
    "Note that each call adds a new node to your analysis tree, though only the last one is accessible via `n1`. You can always display the complete analysis tree to get an overview of what you've done."
   ]
  },
  {
   "cell_type": "code",
   "execution_count": null,
   "id": "489d2167-a99d-4159-9d39-b4af4bc940af",
   "metadata": {},
   "outputs": [],
   "source": [
    "show_analysis_tree(C)"
   ]
  },
  {
   "cell_type": "markdown",
   "id": "cb917073-101f-4c6c-a7ee-3288ec3a337a",
   "metadata": {},
   "source": [
    "You can always locate a node by its ID value (shown in brackets) and display it or discard it from the tree. Let's do this with the first subset node you've added, which should have ID `1`."
   ]
  },
  {
   "cell_type": "code",
   "execution_count": null,
   "id": "69575267-5091-4c5d-9acd-52f1074ce431",
   "metadata": {},
   "outputs": [],
   "source": [
    "n = C.find_node_by_id(1)\n",
    "n.line_count # number of matches"
   ]
  },
  {
   "cell_type": "code",
   "execution_count": null,
   "id": "65dba8ec-e420-42d3-bb37-aa2b4accae87",
   "metadata": {},
   "outputs": [],
   "source": [
    "n.remove()\n",
    "show_analysis_tree(C)"
   ]
  },
  {
   "cell_type": "markdown",
   "id": "4253e127-a8e0-4103-b7f5-9ec6c2dc5d1b",
   "metadata": {},
   "source": [
    "## Sorting\n",
    "\n",
    "Concordance reading often involves sorting concordance lines (e.g. by left or right context). This is achieved in FlexiConc via an arrangement node. For convenience, we pick the appropriate algorithm with the interactive chooser again. Make sure to start from the root of the concordance rather than the random sample we've taken.\n",
    "\n",
    "Select an _arrangement node_, click `+` to add an Ordering algorithm, and choose _Sort by Token-Level Attribute_. Set _sorting_scope_ to _right_ to sort by the right context of the node. "
   ]
  },
  {
   "cell_type": "code",
   "execution_count": null,
   "id": "332c7138-9c77-4f00-a34b-1c90c504e0ce",
   "metadata": {},
   "outputs": [],
   "source": [
    "n2 = add_node_ui(C.root)"
   ]
  },
  {
   "cell_type": "markdown",
   "id": "e22fa1f9-aa54-4662-b651-26a56da01cb4",
   "metadata": {},
   "source": [
    "If you want to re-run the notebook in future to repeat the analysis, it is inconvenient to use the interactive dialogues because you will have to repeat all settings (and you'll get different results if you don't set exactly the same parameter values). For a reproducible notebook, execute the interactive dialogue once, then copy the method call it has generated into a new code cell, as shown below. Afterwards, you can comment out the `add_node_ui()` call or deleted the code cell entirely."
   ]
  },
  {
   "cell_type": "code",
   "execution_count": null,
   "id": "6d69e755-f774-465f-bbdc-113bfff19288",
   "metadata": {},
   "outputs": [],
   "source": [
    "n2 = C.root.add_arrangement_node(\n",
    "    grouping=None, \n",
    "    ordering=[\n",
    "        ('Sort by Token-Level Attribute', \n",
    "         {'tokens_attribute': 'word', 'sorting_scope': 'left', 'offset': 0,\n",
    "          'case_sensitive': False, 'reverse': False, 'backwards': False, 'locale_str': 'en'})\n",
    "    ])"
   ]
  },
  {
   "cell_type": "markdown",
   "id": "6b1ec08a-42b1-41d8-a02c-cc9ef072a1c7",
   "metadata": {},
   "source": [
    "Note how the tokens on which the sorting is based are highlighted in the concordance view."
   ]
  },
  {
   "cell_type": "code",
   "execution_count": null,
   "id": "8ac5abd2-59e7-4b0a-9029-0d66afb2a2ce",
   "metadata": {
    "scrolled": true
   },
   "outputs": [],
   "source": [
    "show_kwic(n2, n=400)"
   ]
  },
  {
   "cell_type": "markdown",
   "id": "a1d8c1f6-b12e-4905-9cfb-ab1803715d55",
   "metadata": {},
   "source": [
    "Scrolling through the sorted concordance, you will notice that there is a lot of variation in the left context, except for one very frequent pattern with a possessive pronound before _head_. We would now like to confirm this with a frequency count for the word in L1 position, also highlighting which possessive pronouns occur most frequently. This is done with a Partitioning algorithm."
   ]
  },
  {
   "cell_type": "markdown",
   "id": "85d53086-3dfd-4e6f-a8c1-32d9c899d464",
   "metadata": {},
   "source": [
    "## Grouping\n",
    "\n",
    "Select an _arrangement node_, then click the left `+` to add a Grouping algorithm, choosing _Partition by Ngrams_. The desired L1 position is `-1` (i.e. a negative offset indicates a position to the left of the node). You might also want add an Ordering node to sort the concordance lines _within_ each group by right context (or a random sort to view a random sample of lines from the group)."
   ]
  },
  {
   "cell_type": "code",
   "execution_count": null,
   "id": "44652ef1-f5b0-48e0-9d5e-5cafb3506c91",
   "metadata": {},
   "outputs": [],
   "source": [
    "n3 = add_node_ui(n2)"
   ]
  },
  {
   "cell_type": "markdown",
   "id": "a1bdfeb5-14d4-445c-8017-521af41a9556",
   "metadata": {},
   "source": [
    "Note that `n=10` below shows at most 10 lines from each partition, which makes sense because we are manly interested in the frequency counts and only need the actual concordance lines as illustrative examples. Possessive pronouns account for considerably more than half of the concordance lines, mainly with _his_, _her_, _my_, and _your_."
   ]
  },
  {
   "cell_type": "code",
   "execution_count": null,
   "id": "047e243d-ccab-4d58-9ef0-e435df91bc53",
   "metadata": {},
   "outputs": [],
   "source": [
    "show_kwic(n3, n=10)"
   ]
  },
  {
   "cell_type": "markdown",
   "id": "4fdbe11e-4d17-4768-a418-fd7535e7b178",
   "metadata": {},
   "source": [
    "Let us view the analysis tree again. If you want, you can clean up some of the nodes that were introduced by trying different options."
   ]
  },
  {
   "cell_type": "code",
   "execution_count": null,
   "id": "a92fb881-cc33-423d-adbe-253918e488c2",
   "metadata": {},
   "outputs": [],
   "source": [
    "show_analysis_tree(C)"
   ]
  },
  {
   "cell_type": "markdown",
   "id": "d857c599-de13-41bc-bdc4-38286748aa11",
   "metadata": {},
   "source": [
    "For further analysis, let us zoom in on the pattern “possessive pronoun + _head_”. We can use the Selecting algorithm _Select by Token-Level String Attribute_. We skip the interactive dialogue this time and directly provide the method call generated by it, listing all possessive pronouns that come to mind)."
   ]
  },
  {
   "cell_type": "code",
   "execution_count": null,
   "id": "ecaf43a2-838c-4be1-8008-f13fa0827c09",
   "metadata": {},
   "outputs": [],
   "source": [
    "poss = n3.add_subset_node(\n",
    "    ('Select by Token-Level String Attribute', \n",
    "     {'search_terms': ['his', 'her', 'my', 'your', 'our', 'their', 'its'],\n",
    "      'tokens_attribute': 'word', 'offset': -1, \n",
    "      'case_sensitive': False, 'regex': False, 'negative': False}))"
   ]
  },
  {
   "cell_type": "markdown",
   "id": "afa92842-1d39-41a8-a939-59c057f45f58",
   "metadata": {},
   "source": [
    "In order to find our way around a large analysis tree, we can mark selected nodes specified by their ID. Here we mark the subset node that we just created."
   ]
  },
  {
   "cell_type": "code",
   "execution_count": null,
   "id": "31ea4899-e447-4f61-9801-1662f37939da",
   "metadata": {},
   "outputs": [],
   "source": [
    "show_analysis_tree(C, mark=poss.id)"
   ]
  },
  {
   "cell_type": "markdown",
   "id": "225db0f7-911a-4409-b6a4-70dd5a745dda",
   "metadata": {},
   "source": [
    "Notice how the partitioning and ordering are still in effect because the subset node is a daughter of this arrangement node."
   ]
  },
  {
   "cell_type": "code",
   "execution_count": null,
   "id": "021374b0-d857-46e4-ab19-8cdbefa205fa",
   "metadata": {},
   "outputs": [],
   "source": [
    "show_kwic(poss, n=10)"
   ]
  },
  {
   "cell_type": "markdown",
   "id": "eb0169c9-6d79-4f38-9011-caf803e5336b",
   "metadata": {},
   "source": [
    "## Ranking\n",
    "\n",
    "Further concordance reading of this subsets suggests that _head_ might tend to co-occur with other body parts. We can explore this hypothesis with the help of the _KWIC Grouper Ranker_ algorithm. For convenience, we directly provide the method call with a longish list of body part nouns."
   ]
  },
  {
   "cell_type": "code",
   "execution_count": null,
   "id": "baffe8f3-03ea-4204-b749-d723af7ba6fe",
   "metadata": {},
   "outputs": [],
   "source": [
    "n4 = poss.add_arrangement_node(\n",
    "    grouping=None, \n",
    "    ordering=[\n",
    "        ('KWIC Grouper Ranker', \n",
    "         {'search_terms': ['shoulder', 'neck', 'cheek', 'hand', 'hands', 'arm', 'eyes', 'waist', 'knees', 'chest', 'face'],\n",
    "          'tokens_attribute': 'word', 'mode': 'literal', 'case_sensitive': False, \n",
    "          'window_start': -20, 'window_end': 20, 'include_node': False, 'count_types': False})\n",
    "    ])"
   ]
  },
  {
   "cell_type": "code",
   "execution_count": null,
   "id": "77a40122-4b15-4a99-b1db-f48f519f4452",
   "metadata": {},
   "outputs": [],
   "source": [
    "show_kwic(n4, n=100)"
   ]
  },
  {
   "cell_type": "markdown",
   "id": "bdca0650-9529-426e-aa8a-8ca6b4cee7d5",
   "metadata": {},
   "source": [
    "## Semantic Clustering\n",
    "\n",
    "If you have the _Sentence Transformers_ library and enough computing power and time to spare, you can also perform a semantic clustering of the concordance. First, we need to annotate the concordance object with sentence embeddings (for a specified context span). Note that when you run this annotation for the first time, it will download a large neural language model and cache it on your computer, which can take a considerable amount of time. You should see some progress messages as soon as the annotation process starts.\n",
    "\n",
    "Select the _Annotate with Sentence Transformers_ algorithm,  and specify an L5…R5 window, i.e. start position `-5` and end position `5` (note that larger windows often fail to produce intuitive clusterings). Or you can simply execute the prepared method call in the code cell below."
   ]
  },
  {
   "cell_type": "code",
   "execution_count": null,
   "id": "629043d1-a9d9-4027-bb8e-61caaee62677",
   "metadata": {},
   "outputs": [],
   "source": [
    "add_annotation_ui(C)"
   ]
  },
  {
   "cell_type": "code",
   "execution_count": null,
   "id": "6dc81a33-97d0-4b75-9ada-1de11fba6ad1",
   "metadata": {},
   "outputs": [],
   "source": [
    "C.add_annotation(\n",
    "    (\"Annotate with Sentence Transformers\", \n",
    "    {\"token_attribute\": \"word\", \"window_start\": -5, \"window_end\": 5}))"
   ]
  },
  {
   "cell_type": "markdown",
   "id": "c8011c15-f16d-48f3-afb7-8a9644da1e99",
   "metadata": {},
   "source": [
    "Now choose the Grouping algorithm _Flat Clustering by Embeddings_ and increase the number of clusters (_n_partitions_) to 20. Add a _Random Sort_ so we each cluster can be represented by a small set of randomly selected lines. Of course, if you are an experienced clusterer or clusteress you can also change the other parameters of the clustering algorithm."
   ]
  },
  {
   "cell_type": "code",
   "execution_count": null,
   "id": "f6038a8b-5da5-42d3-b001-88fcfd7a9a38",
   "metadata": {},
   "outputs": [],
   "source": [
    "n5 = add_node_ui(n4)"
   ]
  },
  {
   "cell_type": "code",
   "execution_count": null,
   "id": "487d8e94-2d7a-487c-a6ac-170e5365719a",
   "metadata": {},
   "outputs": [],
   "source": [
    "show_kwic(n5, n=20)"
   ]
  },
  {
   "cell_type": "markdown",
   "id": "6722fed6-3993-410a-8c9a-41412df647fa",
   "metadata": {},
   "source": [
    "Take a closer look at the individual clusters. Can you spot meaningful patterns?\n",
    "\n",
    "Starting from the clustered concordance view, you can zoom in a selected set of clusters that you feel exhibit a common pattern. In order to do so, specify the relevant cluster IDs shown above by editing the code cell below. As an example, we select clusters #0, #4, and #14."
   ]
  },
  {
   "cell_type": "code",
   "execution_count": null,
   "id": "093efd9f-4dd6-4d31-8563-e0407b9db7f7",
   "metadata": {},
   "outputs": [],
   "source": [
    "n6 = n5.add_subset_node(\n",
    "    ('Manual Line Selection', \n",
    "     {'groups': ['Cluster_0', 'Cluster_4', 'Cluster_14']}))"
   ]
  },
  {
   "cell_type": "code",
   "execution_count": null,
   "id": "de7f3cce-89b7-4290-a7d7-9569ef169b86",
   "metadata": {},
   "outputs": [],
   "source": [
    "show_kwic(n6, n=20)"
   ]
  },
  {
   "cell_type": "markdown",
   "id": "4d8eeec5-1e15-45aa-9b75-9e0affd722ab",
   "metadata": {},
   "source": [
    "This is a concordance view we might want to bookmark."
   ]
  },
  {
   "cell_type": "code",
   "execution_count": null,
   "id": "80627103-cf51-472e-8beb-1aa9cff8bb58",
   "metadata": {},
   "outputs": [],
   "source": [
    "n6.bookmarked = True"
   ]
  },
  {
   "cell_type": "markdown",
   "id": "bcb77828-16c7-437c-a660-8f7bffd7b118",
   "metadata": {},
   "source": [
    "Unfortunately, bookmarks aren't highlighted in the tree yet. But we can add a marked using the node ID as before."
   ]
  },
  {
   "cell_type": "code",
   "execution_count": null,
   "id": "f0d69af0-fa9e-4134-ac7d-dafbb367b0dc",
   "metadata": {},
   "outputs": [],
   "source": [
    "show_analysis_tree(C, mark=n6.id)"
   ]
  }
 ],
 "metadata": {
  "kernelspec": {
   "display_name": "Python 3 (ipykernel)",
   "language": "python",
   "name": "python3"
  },
  "language_info": {
   "codemirror_mode": {
    "name": "ipython",
    "version": 3
   },
   "file_extension": ".py",
   "mimetype": "text/x-python",
   "name": "python",
   "nbconvert_exporter": "python",
   "pygments_lexer": "ipython3",
   "version": "3.13.5"
  }
 },
 "nbformat": 4,
 "nbformat_minor": 5
}
